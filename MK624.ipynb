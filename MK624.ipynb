{
 "cells": [
  {
   "cell_type": "markdown",
   "id": "705c6031",
   "metadata": {
    "slideshow": {
     "slide_type": "slide"
    }
   },
   "source": [
    "# This is section MK6.2.4 A more interesting problem"
   ]
  },
  {
   "cell_type": "markdown",
   "id": "68c755c9",
   "metadata": {
    "slideshow": {
     "slide_type": "slide"
    }
   },
   "source": [
    "This is a worked example of a buggy solution to the problem in Section MK6.2.4."
   ]
  },
  {
   "cell_type": "markdown",
   "id": "2a322632",
   "metadata": {
    "slideshow": {
     "slide_type": "notes"
    }
   },
   "source": [
    "*A robot named karel is somewhere in the world facing south. One beeper is on each corner between karel's current position and the southern boundary wall. There is no beeper on the corner on which karel is currently standing. Write a new method clearAllBeepersToTheWall to pick up all the beepers*"
   ]
  },
  {
   "cell_type": "markdown",
   "id": "e6978b56",
   "metadata": {},
   "source": [
    "Import the infrastructure and a test world with a column of beepers as in Figure 6-1 (MK page 144)"
   ]
  },
  {
   "cell_type": "code",
   "execution_count": null,
   "id": "01713a83",
   "metadata": {
    "slideshow": {
     "slide_type": "notes"
    }
   },
   "outputs": [],
   "source": [
    "from karel.robota import South, Robot, world"
   ]
  },
  {
   "cell_type": "code",
   "execution_count": null,
   "id": "ee131d30",
   "metadata": {},
   "outputs": [],
   "source": [
    "world.readWorld('MK624.kwld')"
   ]
  },
  {
   "cell_type": "code",
   "execution_count": null,
   "id": "44fc0b25",
   "metadata": {
    "slideshow": {
     "slide_type": "notes"
    }
   },
   "outputs": [],
   "source": [
    "world.showWorld(1,1,5,5)"
   ]
  },
  {
   "cell_type": "code",
   "execution_count": null,
   "id": "16a3eb2b",
   "metadata": {},
   "outputs": [],
   "source": [
    "# In the initial design phase of the solution we create an specification of a new kind of Robot\n",
    "# with new method. It inherits all its behaviour from the Robot class.\n",
    "# Logically, clearing all beepers to the wall is not a general Robot capability, \n",
    "# only the UrRobot capabilities and the given ability to sense the world are needed. \n",
    "# Changing the built in classes breaks the metaphor. Edit this stub for your solution.\n",
    "# class ClearerRobot(Robot):\n",
    "#    def clearAllBeepersToWall(self):\n",
    "#       pass"
   ]
  },
  {
   "cell_type": "markdown",
   "id": "36c3e64f",
   "metadata": {},
   "source": [
    "**Question** What do we know about karel's initial situation?\n",
    "\n",
    "**Answer**\n",
    "- Karel is facing South\n",
    "- Karel is an unknown distance from the southern boundary wall\n",
    "- Each corner between karel and the southern boundary wall has one beeper"
   ]
  },
  {
   "cell_type": "markdown",
   "id": "18851e14",
   "metadata": {},
   "source": [
    "**Question** Does any of this information provide insight toward a solution?\n",
    "\n",
    "**Answer** Karel can travel forward until it reaches the southern boundary wall. It can pick a beeper from each corner as it travels.\n",
    "- We have the beginning of a plan. We continue the process below."
   ]
  },
  {
   "cell_type": "markdown",
   "id": "82af8390",
   "metadata": {},
   "source": [
    "**Question** What robot instruction can we use to keep karel walking southward until it reaches the southern boundary wall?\n",
    "\n",
    "**Answer** Since traveling to the southern boundary wall requires an unknown number of move instructions we can use a WHILE loop."
   ]
  },
  {
   "cell_type": "markdown",
   "id": "a65dafa0",
   "metadata": {},
   "source": [
    "**Question** How do we actually use a WHILE loop?\n",
    "\n",
    "**Answer** We can use a four step process to reason about WHILE loops as follows:\n",
    "\n",
    "1. Identify the one test that must be true when karel is finished with the loop. Karel will be at the southern boundary wall, so the test *self.frontIsClear()* will be false, that is *not self.frontIsClear()* will be true.\n",
    "2. Take the opposite form of the test identified in Step 1 to be the WHILE loop test. That is, *self.frontIsClear()*.\n",
    "3. Do the minimum needed to ensure that the test eventually evaluates to false so that the WHILE loop stops. Karel must move forward one block within the loop body, but we must be careful here. We can use a single *pickBeeper* instruction because there is only one beeper on each corner.\n",
    "4. Do whatever is required before or after the WHILE is executed to ensure that we solve the given problem. Since Karel is already facing South we do not have to do anything."
   ]
  },
  {
   "cell_type": "markdown",
   "id": "6e1d82a8",
   "metadata": {},
   "source": [
    "Based on this analysis we can specialise the Robot class by adding a method that will pickup beepers as it moves to the southern wall. Here is a first attempt. For extra credit you have found the solution add       *world.showWorldWithRobots1,1,5,5)* to the while loop to create an animation of the four steps."
   ]
  },
  {
   "cell_type": "code",
   "execution_count": null,
   "id": "8a4ccfbb",
   "metadata": {},
   "outputs": [],
   "source": [
    "class ClearerRobot(Robot):\n",
    "    def clearAllBeepersToWall(self):\n",
    "        while self.frontIsClear():\n",
    "            world.showWorldWithRobots(1,1,5,5)\n",
    "            self.move()\n",
    "            self.pickBeeper()\n",
    "        world.showWorldWithRobots(1,1,5,5)"
   ]
  },
  {
   "cell_type": "markdown",
   "id": "ee2c51e0",
   "metadata": {},
   "source": [
    "Create a new Robot of this class at Steet 4 Avenue 3 and test its behaviour."
   ]
  },
  {
   "cell_type": "code",
   "execution_count": null,
   "id": "4de41bb6",
   "metadata": {},
   "outputs": [],
   "source": [
    "carl=ClearerRobot(4,3,South,0)"
   ]
  },
  {
   "cell_type": "code",
   "execution_count": null,
   "id": "9e890c16",
   "metadata": {},
   "outputs": [],
   "source": [
    "carl.clearAllBeepersToWall()"
   ]
  },
  {
   "cell_type": "markdown",
   "id": "c14c2b30",
   "metadata": {},
   "source": [
    "This first pass fails. Can you interpret the error trace and fix the definition of ClearerRobot? Most of it points into infrastructure code which might lead people to think that they should follow that path. The error isn't in the infrastructure, but in the student code. As presented it is both messy and confusing. The error at line 4 of the student code is the only one relevant here.  "
   ]
  },
  {
   "cell_type": "code",
   "execution_count": null,
   "id": "86522d1c",
   "metadata": {},
   "outputs": [],
   "source": [
    "carl.display()"
   ]
  },
  {
   "cell_type": "code",
   "execution_count": null,
   "id": "d8224921",
   "metadata": {},
   "outputs": [],
   "source": [
    "world.reset()"
   ]
  },
  {
   "cell_type": "code",
   "execution_count": null,
   "id": "437019d0",
   "metadata": {},
   "outputs": [],
   "source": []
  }
 ],
 "metadata": {
  "kernelspec": {
   "display_name": "Python 3 (ipykernel)",
   "language": "python",
   "name": "python3"
  },
  "language_info": {
   "codemirror_mode": {
    "name": "ipython",
    "version": 3
   },
   "file_extension": ".py",
   "mimetype": "text/x-python",
   "name": "python",
   "nbconvert_exporter": "python",
   "pygments_lexer": "ipython3",
   "version": "3.10.4"
  }
 },
 "nbformat": 4,
 "nbformat_minor": 5
}
